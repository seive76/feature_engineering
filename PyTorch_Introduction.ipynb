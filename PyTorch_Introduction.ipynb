{
 "cells": [
  {
   "cell_type": "markdown",
   "id": "045dcd0a",
   "metadata": {},
   "source": [
    "### Creating tensors in PyTorch"
   ]
  },
  {
   "cell_type": "code",
   "execution_count": 1,
   "id": "e0e73363",
   "metadata": {},
   "outputs": [
    {
     "name": "stdout",
     "output_type": "stream",
     "text": [
      "tensor([[0.6407, 0.1721, 0.4835],\n",
      "        [0.9452, 0.7765, 0.0634],\n",
      "        [0.1778, 0.4532, 0.4072]])\n",
      "torch.Size([3, 3])\n"
     ]
    }
   ],
   "source": [
    "# Import torch\n",
    "import torch\n",
    "\n",
    "# Create random tensor of size 3 by 3\n",
    "your_first_tensor = torch.rand(3, 3)\n",
    "\n",
    "# Calculate the shape of the tensor\n",
    "tensor_size = your_first_tensor.shape\n",
    "\n",
    "# Print the values of the tensor and its shape\n",
    "print(your_first_tensor)\n",
    "print(tensor_size)"
   ]
  },
  {
   "cell_type": "markdown",
   "id": "94b6c1e7",
   "metadata": {},
   "source": [
    "### Matrix multiplication"
   ]
  },
  {
   "cell_type": "code",
   "execution_count": 2,
   "id": "14ab290b",
   "metadata": {},
   "outputs": [
    {
     "name": "stdout",
     "output_type": "stream",
     "text": [
      "tensor([[1., 1., 1.],\n",
      "        [1., 1., 1.],\n",
      "        [1., 1., 1.]])\n",
      "tensor([[1., 0., 0.],\n",
      "        [0., 1., 0.],\n",
      "        [0., 0., 1.]])\n"
     ]
    }
   ],
   "source": [
    "tensor_of_ones = torch.ones(3, 3)\n",
    "tensor_of_identity = torch.eye(3)\n",
    "matrices_multiplied = torch.matmul(tensor_of_ones, tensor_of_identity)\n",
    "element_multiplication = torch.mul(tensor_of_ones, tensor_of_identity)\n",
    "print(matrices_multiplied)\n",
    "print(element_multiplication)"
   ]
  },
  {
   "cell_type": "markdown",
   "id": "c4b2e689",
   "metadata": {},
   "source": [
    "Forward pass"
   ]
  },
  {
   "cell_type": "code",
   "execution_count": 3,
   "id": "ae12cf90",
   "metadata": {},
   "outputs": [
    {
     "name": "stdout",
     "output_type": "stream",
     "text": [
      "tensor(125.1861)\n"
     ]
    }
   ],
   "source": [
    "# Initialize tensors x, y and z\n",
    "x = torch.rand(1000, 1000)\n",
    "y = torch.rand(1000, 1000)\n",
    "z = torch.rand(1000, 1000)\n",
    "\n",
    "# Multiply x with y\n",
    "q = torch.matmul(x, y)\n",
    "\n",
    "# Multiply elementwise z with q\n",
    "f = torch.mul(z, q)\n",
    "\n",
    "mean_f = torch.mean(f)\n",
    "print(mean_f)"
   ]
  },
  {
   "cell_type": "markdown",
   "id": "461ba818",
   "metadata": {},
   "source": [
    "### Backpropagation using PyTorch"
   ]
  },
  {
   "cell_type": "code",
   "execution_count": 4,
   "id": "0f3616d1",
   "metadata": {},
   "outputs": [
    {
     "name": "stdout",
     "output_type": "stream",
     "text": [
      "Gradient of x is: tensor(5.)\n",
      "Gradient of y is: tensor(5.)\n",
      "Gradient of z is: tensor(1.)\n"
     ]
    }
   ],
   "source": [
    "# Initialize x, y and z to values 4, -3 and 5\n",
    "x = torch.tensor(4., requires_grad=True )\n",
    "y = torch.tensor(-3., requires_grad=True)\n",
    "z = torch.tensor(5., requires_grad=True)\n",
    "\n",
    "# Set q to sum of x and y, set f to product of q with z\n",
    "q = x+y\n",
    "f = q*z\n",
    "\n",
    "# Compute the derivatives\n",
    "f.backward()\n",
    "\n",
    "# Print the gradients\n",
    "print(\"Gradient of x is: \" + str(x.grad))\n",
    "print(\"Gradient of y is: \" + str(y.grad))\n",
    "print(\"Gradient of z is: \" + str(z.grad))"
   ]
  },
  {
   "cell_type": "markdown",
   "id": "92f003ca",
   "metadata": {},
   "source": [
    "### Calculating gradients in PyTorch"
   ]
  },
  {
   "cell_type": "code",
   "execution_count": 5,
   "id": "87629f1c",
   "metadata": {},
   "outputs": [
    {
     "name": "stderr",
     "output_type": "stream",
     "text": [
      "/tmp/ipykernel_196/1803197281.py:5: UserWarning: To copy construct from a tensor, it is recommended to use sourceTensor.clone().detach() or sourceTensor.clone().detach().requires_grad_(True), rather than torch.tensor(sourceTensor).\n",
      "  x = torch.tensor(x, requires_grad=True)\n",
      "/tmp/ipykernel_196/1803197281.py:6: UserWarning: To copy construct from a tensor, it is recommended to use sourceTensor.clone().detach() or sourceTensor.clone().detach().requires_grad_(True), rather than torch.tensor(sourceTensor).\n",
      "  y = torch.tensor(y, requires_grad=True)\n",
      "/tmp/ipykernel_196/1803197281.py:7: UserWarning: To copy construct from a tensor, it is recommended to use sourceTensor.clone().detach() or sourceTensor.clone().detach().requires_grad_(True), rather than torch.tensor(sourceTensor).\n",
      "  z = torch.tensor(z, requires_grad=True)\n"
     ]
    }
   ],
   "source": [
    "# Multiply tensors x and y\n",
    "x = torch.rand(1000, 1000)\n",
    "y = torch.rand(1000, 1000)\n",
    "z = torch.rand(1000, 1000)\n",
    "x = torch.tensor(x, requires_grad=True)\n",
    "y = torch.tensor(y, requires_grad=True)\n",
    "z = torch.tensor(z, requires_grad=True)\n",
    "\n",
    "q = torch.matmul(x, y)\n",
    "\n",
    "# Elementwise multiply tensors z with q\n",
    "f = q * z\n",
    "\n",
    "mean_f = torch.mean(f)\n",
    "\n",
    "# Calculate the gradients\n",
    "mean_f.backward()"
   ]
  },
  {
   "cell_type": "markdown",
   "id": "e1571c95",
   "metadata": {},
   "source": [
    "### First neural network"
   ]
  },
  {
   "cell_type": "code",
   "execution_count": 6,
   "id": "74b7052f",
   "metadata": {},
   "outputs": [
    {
     "name": "stdout",
     "output_type": "stream",
     "text": [
      "tensor([20863.6484, 18681.2383, 20542.0684, 19424.6113, 19829.8477, 18185.8027,\n",
      "        18608.3379, 19761.5410, 18461.0742, 20700.3926])\n"
     ]
    }
   ],
   "source": [
    "# Initialize the input layer\n",
    "input_layer = torch.rand(784)\n",
    "\n",
    "# Initialize the weights of the neural network\n",
    "weight_1 = torch.rand(784, 200)\n",
    "weight_2 = torch.rand(200, 10)\n",
    "\n",
    "# Multiply input_layer with weight_1\n",
    "hidden_1 = torch.matmul(input_layer, weight_1)\n",
    "\n",
    "# Multiply hidden_1 with weight_2\n",
    "output_layer = torch.matmul(hidden_1, weight_2)\n",
    "print(output_layer)"
   ]
  },
  {
   "cell_type": "markdown",
   "id": "b2b14d96",
   "metadata": {},
   "source": [
    "### First PyTorch neural network"
   ]
  },
  {
   "cell_type": "markdown",
   "id": "c6848438",
   "metadata": {},
   "source": [
    "You are going to build the same neural network you built in the previous exercise, but now using the PyTorch way. As a reminder, you have 784 units in the input layer, 200 hidden units and 10 units for the output layer."
   ]
  },
  {
   "cell_type": "code",
   "execution_count": 7,
   "id": "eb2e5b55",
   "metadata": {},
   "outputs": [],
   "source": [
    "import torch.nn as nn"
   ]
  },
  {
   "cell_type": "code",
   "execution_count": 8,
   "id": "b7081b75",
   "metadata": {},
   "outputs": [],
   "source": [
    "class Net(nn.Module):\n",
    "    def __init__(self):\n",
    "        super(Net, self).__init__()\n",
    "        \n",
    "        # Instantiate all 2 linear layers  \n",
    "        self.fc1 = nn.Linear(784, 200)\n",
    "        self.fc2 = nn.Linear(200, 10)\n",
    "\n",
    "    def forward(self, x):\n",
    "      \n",
    "        # Use the instantiated layers and return x\n",
    "        x = self.fc1(x)\n",
    "        x = self.fc2(x)\n",
    "        return x"
   ]
  },
  {
   "cell_type": "code",
   "execution_count": 9,
   "id": "b15d520a",
   "metadata": {},
   "outputs": [
    {
     "name": "stdout",
     "output_type": "stream",
     "text": [
      "tensor([ 0.2139,  0.3245, -0.1315, -0.1950, -0.2373,  0.1256,  0.0031,  0.0687,\n",
      "         0.0771, -0.1181], grad_fn=<AddBackward0>)\n"
     ]
    }
   ],
   "source": [
    "net=Net()\n",
    "result = net(input_layer)\n",
    "print(result)"
   ]
  },
  {
   "cell_type": "code",
   "execution_count": 10,
   "id": "db814ab3",
   "metadata": {},
   "outputs": [
    {
     "data": {
      "text/plain": [
       "(torch.Size([784]), torch.Size([10]))"
      ]
     },
     "execution_count": 10,
     "metadata": {},
     "output_type": "execute_result"
    }
   ],
   "source": [
    "input_layer.shape, result.shape"
   ]
  },
  {
   "cell_type": "code",
   "execution_count": 11,
   "id": "59c652ec",
   "metadata": {},
   "outputs": [],
   "source": [
    "import torch.nn as nn"
   ]
  },
  {
   "cell_type": "code",
   "execution_count": 12,
   "id": "5d525b65",
   "metadata": {},
   "outputs": [
    {
     "name": "stdout",
     "output_type": "stream",
     "text": [
      "tensor([0.3015, 0.1602], grad_fn=<SqueezeBackward3>)\n"
     ]
    }
   ],
   "source": [
    "# Instantiate ReLU activation function as relu\n",
    "relu = nn.ReLU()\n",
    "\n",
    "# Initialize weight_1 and weight_2 with random numbers\n",
    "weight_1 = torch.rand(10, 6)\n",
    "weight_2 = torch.rand(6, 2)\n",
    "\n",
    "# Multiply input_layer with weight_1\n",
    "hidden_1 = torch.matmul(result, weight_1)\n",
    "\n",
    "# Apply ReLU activation function over hidden_1 and multiply with weight_2\n",
    "hidden_1_activated = relu(hidden_1)\n",
    "print(torch.matmul(hidden_1_activated, weight_2))"
   ]
  },
  {
   "cell_type": "code",
   "execution_count": 43,
   "id": "ee2b61ec",
   "metadata": {},
   "outputs": [],
   "source": [
    "a=-1.2\n",
    "b=0.12\n",
    "c=4.8"
   ]
  },
  {
   "cell_type": "code",
   "execution_count": 44,
   "id": "60ece44c",
   "metadata": {},
   "outputs": [],
   "source": [
    "e=(1+1/1000)**1000"
   ]
  },
  {
   "cell_type": "code",
   "execution_count": 45,
   "id": "a2f790b0",
   "metadata": {},
   "outputs": [
    {
     "name": "stdout",
     "output_type": "stream",
     "text": [
      "2.7169239322355936\n"
     ]
    }
   ],
   "source": [
    "print(e)"
   ]
  },
  {
   "cell_type": "code",
   "execution_count": 46,
   "id": "53ea9559",
   "metadata": {},
   "outputs": [],
   "source": [
    "d=e**a"
   ]
  },
  {
   "cell_type": "code",
   "execution_count": 47,
   "id": "46c0a899",
   "metadata": {},
   "outputs": [],
   "source": [
    "f=e**b"
   ]
  },
  {
   "cell_type": "code",
   "execution_count": 48,
   "id": "0dd5948e",
   "metadata": {},
   "outputs": [],
   "source": [
    "g=e**c"
   ]
  },
  {
   "cell_type": "code",
   "execution_count": 49,
   "id": "1aeabde1",
   "metadata": {},
   "outputs": [],
   "source": [
    "h=d+f+g"
   ]
  },
  {
   "cell_type": "code",
   "execution_count": 50,
   "id": "246d9474",
   "metadata": {},
   "outputs": [
    {
     "name": "stdout",
     "output_type": "stream",
     "text": [
      "0.0024572314097191877 0.009192387653911135 0.9883503809363697\n"
     ]
    }
   ],
   "source": [
    "aa=d/h\n",
    "bb=f/h\n",
    "cc=g/h\n",
    "print(aa, bb, cc)"
   ]
  },
  {
   "cell_type": "code",
   "execution_count": 51,
   "id": "b4725280",
   "metadata": {},
   "outputs": [
    {
     "data": {
      "text/plain": [
       "0.011649619063630268"
      ]
     },
     "execution_count": 51,
     "metadata": {},
     "output_type": "execute_result"
    }
   ],
   "source": [
    "1-cc"
   ]
  },
  {
   "cell_type": "code",
   "execution_count": 41,
   "id": "0dbcb930",
   "metadata": {},
   "outputs": [
    {
     "data": {
      "text/plain": [
       "2.7169239322355936"
      ]
     },
     "execution_count": 41,
     "metadata": {},
     "output_type": "execute_result"
    }
   ],
   "source": [
    "e**1"
   ]
  },
  {
   "cell_type": "code",
   "execution_count": 42,
   "id": "f2af39ae",
   "metadata": {},
   "outputs": [
    {
     "data": {
      "text/plain": [
       "1.0"
      ]
     },
     "execution_count": 42,
     "metadata": {},
     "output_type": "execute_result"
    }
   ],
   "source": [
    "e**0"
   ]
  },
  {
   "cell_type": "markdown",
   "id": "f9fd3a26",
   "metadata": {},
   "source": [
    "### Calculating loss function in PyTorch\n"
   ]
  },
  {
   "cell_type": "code",
   "execution_count": 52,
   "id": "8e680187",
   "metadata": {},
   "outputs": [
    {
     "name": "stdout",
     "output_type": "stream",
     "text": [
      "tensor([2])\n",
      "tensor(0.0117)\n"
     ]
    }
   ],
   "source": [
    "# Initialize the scores and ground truth\n",
    "logits = torch.tensor([[-1.2, 0.12, 4.8]])\n",
    "ground_truth = torch.tensor([2])\n",
    "print(ground_truth)\n",
    "# Instantiate cross entropy loss\n",
    "criterion = nn.CrossEntropyLoss()\n",
    "\n",
    "# Compute and print the loss\n",
    "loss = criterion(logits, ground_truth)\n",
    "print(loss)"
   ]
  },
  {
   "cell_type": "markdown",
   "id": "b65611a6",
   "metadata": {},
   "source": [
    "### Loss function of random scores\n"
   ]
  },
  {
   "cell_type": "markdown",
   "id": "7b25c8b6",
   "metadata": {},
   "source": [
    "If the neural network predicts random scores, what would be its loss function? Let's find it out in PyTorch. The neural network is going to have 1000 classes, each having a random score. For ground truth, it will have class 111. Calculate the loss function."
   ]
  },
  {
   "cell_type": "code",
   "execution_count": 53,
   "id": "edca3fc3",
   "metadata": {},
   "outputs": [
    {
     "name": "stdout",
     "output_type": "stream",
     "text": [
      "tensor(7.2581)\n"
     ]
    }
   ],
   "source": [
    "# Initialize logits and ground truth\n",
    "logits = torch.rand(1, 1000)\n",
    "ground_truth = torch.tensor([111]) #____\n",
    "\n",
    "# Instantiate cross-entropy loss\n",
    "criterion = nn.CrossEntropyLoss()\n",
    "\n",
    "# Calculate and print the loss\n",
    "loss = criterion(logits, ground_truth)\n",
    "print(loss)"
   ]
  },
  {
   "cell_type": "code",
   "execution_count": null,
   "id": "4c589114",
   "metadata": {},
   "outputs": [],
   "source": []
  }
 ],
 "metadata": {
  "kernelspec": {
   "display_name": "py39_7",
   "language": "python",
   "name": "py39_7"
  },
  "language_info": {
   "codemirror_mode": {
    "name": "ipython",
    "version": 3
   },
   "file_extension": ".py",
   "mimetype": "text/x-python",
   "name": "python",
   "nbconvert_exporter": "python",
   "pygments_lexer": "ipython3",
   "version": "3.9.7"
  }
 },
 "nbformat": 4,
 "nbformat_minor": 5
}
