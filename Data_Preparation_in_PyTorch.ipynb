{
 "cells": [
  {
   "cell_type": "code",
   "execution_count": 1,
   "id": "0c140f98",
   "metadata": {},
   "outputs": [],
   "source": [
    "import torch\n",
    "import torchvision\n",
    "import torch.utils.data\n",
    "import torchvision.transforms as transforms"
   ]
  },
  {
   "cell_type": "markdown",
   "id": "7dd9815a",
   "metadata": {},
   "source": [
    "### Preparing MNIST dataset"
   ]
  },
  {
   "cell_type": "markdown",
   "id": "fccb22f0",
   "metadata": {},
   "source": [
    "데이터셋 & 데이터셋 위치 \n",
    "\n",
    "데이터셋 이름: MNIST\n",
    "데이터셋 위치: 같은 폴더 위치"
   ]
  },
  {
   "cell_type": "code",
   "execution_count": null,
   "id": "ad724bbc",
   "metadata": {},
   "outputs": [],
   "source": [
    "# Transform the data to torch tensors and normalize it \n",
    "transform = transforms.Compose([transforms.ToTensor(),\n",
    "                                transforms.Normalize((0.1307), ((0.3081)))])\n",
    "\n",
    "# Prepare training set and testing set\n",
    "trainset = torchvision.datasets.MNIST('mnist', train=True, \n",
    "                                       download=True, transform=transform)\n",
    "testset = torchvision.datasets.MNIST('mnist', train=False,\n",
    "                                     download=True, transform=transform) #____, ____)\n",
    "\n",
    "# Prepare training loader and testing loader\n",
    "trainloader = torch.utils.data.DataLoader(trainset, batch_size=32, #____, ____,\n",
    "                                         shuffle=True, num_workers=0)\n",
    "testloader = torch.utils.data.DataLoader(testset, batch_size=32, #____, ____,\n",
    "                                         shuffle=False, num_workers=0) "
   ]
  },
  {
   "cell_type": "markdown",
   "id": "89aa7825",
   "metadata": {},
   "source": [
    "### Inspecting the dataloaders"
   ]
  },
  {
   "cell_type": "markdown",
   "id": "ee818e54",
   "metadata": {},
   "source": [
    "Compute the shape of the training set and testing set\n",
    "\n",
    "- trainset_shape = trainloader.dataset.train_data.shape\n",
    "- testset_shape = testloader.dataset.test_data.shape\n",
    "\n",
    "Print the computed shapes\n",
    "- print(trainset_shape, testset_shape)\n",
    "\n",
    "Compute the size of the minibatch for training set and testing set\n",
    "- trainset_batchsize = trainloader.batch_size \n",
    "- testset_batchsize = testloader.batch_size\n",
    "\n",
    "Print sizes of the minibatch\n",
    "- print(trainset_batchsize, testset_batchsize)"
   ]
  },
  {
   "cell_type": "code",
   "execution_count": 2,
   "id": "701569c2",
   "metadata": {},
   "outputs": [
    {
     "ename": "NameError",
     "evalue": "name 'trainloader' is not defined",
     "output_type": "error",
     "traceback": [
      "\u001b[0;31m---------------------------------------------------------------------------\u001b[0m",
      "\u001b[0;31mNameError\u001b[0m                                 Traceback (most recent call last)",
      "Input \u001b[0;32mIn [2]\u001b[0m, in \u001b[0;36m<cell line: 2>\u001b[0;34m()\u001b[0m\n\u001b[1;32m      1\u001b[0m \u001b[38;5;66;03m# Compute the shape of the training set and testing set\u001b[39;00m\n\u001b[0;32m----> 2\u001b[0m trainset_shape \u001b[38;5;241m=\u001b[39m \u001b[43mtrainloader\u001b[49m\u001b[38;5;241m.\u001b[39mdataset\u001b[38;5;241m.\u001b[39mtrain_data\u001b[38;5;241m.\u001b[39mshape\n\u001b[1;32m      3\u001b[0m testset_shape \u001b[38;5;241m=\u001b[39m testloader\u001b[38;5;241m.\u001b[39mdataset\u001b[38;5;241m.\u001b[39mtest_data\u001b[38;5;241m.\u001b[39mshape\n\u001b[1;32m      5\u001b[0m \u001b[38;5;66;03m# Print the computed shapes\u001b[39;00m\n",
      "\u001b[0;31mNameError\u001b[0m: name 'trainloader' is not defined"
     ]
    }
   ],
   "source": [
    "# Compute the shape of the training set and testing set\n",
    "trainset_shape = trainloader.dataset.train_data.shape\n",
    "testset_shape = testloader.dataset.test_data.shape\n",
    "\n",
    "# Print the computed shapes\n",
    "print(trainset_shape, testset_shape)\n",
    "\n",
    "# Compute the size of the minibatch for training set and testing set\n",
    "trainset_batchsize = trainloader.batch_size \n",
    "testset_batchsize = testloader.batch_size\n",
    "\n",
    "# Print sizes of the minibatch\n",
    "print(trainset_batchsize, testset_batchsize)"
   ]
  },
  {
   "cell_type": "code",
   "execution_count": null,
   "id": "60502dc5",
   "metadata": {},
   "outputs": [],
   "source": []
  },
  {
   "cell_type": "code",
   "execution_count": null,
   "id": "08737f1c",
   "metadata": {},
   "outputs": [],
   "source": []
  },
  {
   "cell_type": "code",
   "execution_count": null,
   "id": "0e21a8e0",
   "metadata": {},
   "outputs": [],
   "source": []
  }
 ],
 "metadata": {
  "kernelspec": {
   "display_name": "py39_7",
   "language": "python",
   "name": "py39_7"
  },
  "language_info": {
   "codemirror_mode": {
    "name": "ipython",
    "version": 3
   },
   "file_extension": ".py",
   "mimetype": "text/x-python",
   "name": "python",
   "nbconvert_exporter": "python",
   "pygments_lexer": "ipython3",
   "version": "3.9.7"
  }
 },
 "nbformat": 4,
 "nbformat_minor": 5
}
